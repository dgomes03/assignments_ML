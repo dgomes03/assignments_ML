{
  "cells": [
    {
      "cell_type": "markdown",
      "metadata": {
        "id": "view-in-github",
        "colab_type": "text"
      },
      "source": [
        "<a href=\"https://colab.research.google.com/github/dgomes03/assignments_ML/blob/main/Assignment4_Diogo_Gomes.ipynb\" target=\"_parent\"><img src=\"https://colab.research.google.com/assets/colab-badge.svg\" alt=\"Open In Colab\"/></a>"
      ]
    },
    {
      "cell_type": "code",
      "execution_count": null,
      "id": "d099c8a4",
      "metadata": {
        "id": "d099c8a4"
      },
      "outputs": [],
      "source": [
        "import torch\n",
        "import torch.nn as nn\n",
        "import torch.nn.functional as F\n",
        "import torch.optim as optim\n",
        "from torchvision import datasets, transforms\n",
        "from torch.utils.data import DataLoader\n",
        "import matplotlib.pyplot as plt"
      ]
    },
    {
      "cell_type": "code",
      "execution_count": null,
      "id": "6086252d",
      "metadata": {
        "id": "6086252d"
      },
      "outputs": [],
      "source": [
        "# Normalize and convert to tensor\n",
        "transform = transforms.Compose([\n",
        "    transforms.ToTensor(),  # Converts to [0,1] and shape (C, H, W)\n",
        "])\n",
        "\n",
        "# Download and prepare datasets\n",
        "train_dataset = datasets.MNIST(root='./data', train=True, download=True, transform=transform)\n",
        "test_dataset  = datasets.MNIST(root='./data', train=False, download=True, transform=transform)\n",
        "\n",
        "# Create DataLoaders\n",
        "train_loader = DataLoader(train_dataset, batch_size=64, shuffle=True)\n",
        "test_loader  = DataLoader(test_dataset, batch_size=1000, shuffle=False)"
      ]
    },
    {
      "cell_type": "code",
      "execution_count": null,
      "id": "7e20c703",
      "metadata": {
        "id": "7e20c703"
      },
      "outputs": [],
      "source": [
        "class CNN(nn.Module):\n",
        "    def __init__(self):\n",
        "        super(CNN, self).__init__()\n",
        "        self.conv1 = nn.Conv2d(1, 32, kernel_size=3)   # Output: (32, 26, 26)\n",
        "        self.pool1 = nn.MaxPool2d(2)                  # Output: (32, 13, 13)\n",
        "        self.conv2 = nn.Conv2d(32, 64, kernel_size=3) # Output: (64, 11, 11)\n",
        "        self.pool2 = nn.MaxPool2d(2)                  # Output: (64, 5, 5)\n",
        "        self.flatten = nn.Flatten()\n",
        "        self.fc1 = nn.Linear(64 * 5 * 5, 64)\n",
        "        self.fc2 = nn.Linear(64, 10)\n",
        "\n",
        "    def forward(self, x):\n",
        "        x = F.relu(self.conv1(x))\n",
        "        x = self.pool1(x)\n",
        "        x = F.relu(self.conv2(x))\n",
        "        x = self.pool2(x)\n",
        "        x = self.flatten(x)\n",
        "        x = F.relu(self.fc1(x))\n",
        "        x = self.fc2(x)\n",
        "        return x  # raw logits, use CrossEntropyLoss"
      ]
    },
    {
      "cell_type": "code",
      "execution_count": null,
      "id": "8ef33385",
      "metadata": {
        "id": "8ef33385"
      },
      "outputs": [],
      "source": [
        "model = CNN()\n",
        "optimizer = optim.Adam(model.parameters(), lr=0.001)\n",
        "criterion = nn.CrossEntropyLoss()"
      ]
    },
    {
      "cell_type": "code",
      "execution_count": null,
      "id": "d66e4a89",
      "metadata": {
        "id": "d66e4a89",
        "outputId": "3ba0046b-e6ba-4f30-832c-bbd5e5e5e8c5"
      },
      "outputs": [
        {
          "name": "stdout",
          "output_type": "stream",
          "text": [
            "Epoch 1: Train Accuracy = 0.9397, Validation Accuracy = 0.9825\n",
            "Epoch 2: Train Accuracy = 0.9811, Validation Accuracy = 0.9857\n",
            "Epoch 3: Train Accuracy = 0.9870, Validation Accuracy = 0.9880\n",
            "Epoch 4: Train Accuracy = 0.9898, Validation Accuracy = 0.9869\n"
          ]
        },
        {
          "data": {
            "image/png": "[encoded data removed]",
            "text/plain": [
              "<Figure size 640x480 with 1 Axes>"
            ]
          },
          "metadata": {},
          "output_type": "display_data"
        }
      ],
      "source": [
        "epochs = 4\n",
        "train_acc_history = []\n",
        "val_acc_history = []\n",
        "\n",
        "for epoch in range(epochs):\n",
        "    model.train()\n",
        "    correct = 0\n",
        "    total = 0\n",
        "    for data, target in train_loader:\n",
        "        optimizer.zero_grad()\n",
        "        output = model(data)\n",
        "        loss = criterion(output, target)\n",
        "        loss.backward()\n",
        "        optimizer.step()\n",
        "\n",
        "        preds = output.argmax(dim=1)\n",
        "        correct += (preds == target).sum().item()\n",
        "        total += target.size(0)\n",
        "\n",
        "    train_acc = correct / total\n",
        "    train_acc_history.append(train_acc)\n",
        "\n",
        "    # validation\n",
        "    model.eval()\n",
        "    correct = 0\n",
        "    total = 0\n",
        "    with torch.no_grad():\n",
        "        for data, target in test_loader:\n",
        "            output = model(data)\n",
        "            preds = output.argmax(dim=1)\n",
        "            correct += (preds == target).sum().item()\n",
        "            total += target.size(0)\n",
        "\n",
        "    val_acc = correct / total\n",
        "    val_acc_history.append(val_acc)\n",
        "\n",
        "    print(f\"Epoch {epoch+1}: Train Accuracy = {train_acc:.4f}, Validation Accuracy = {val_acc:.4f}\")\n",
        "\n",
        "plt.plot(train_acc_history, label='Train Accuracy')\n",
        "plt.plot(val_acc_history, label='Validation Accuracy')\n",
        "plt.title('Training History')\n",
        "plt.xlabel('Epoch')\n",
        "plt.ylabel('Accuracy')\n",
        "plt.legend()\n",
        "plt.show()"
      ]
    },
    {
      "cell_type": "code",
      "execution_count": null,
      "id": "8b64dc80",
      "metadata": {
        "id": "8b64dc80",
        "outputId": "07c385b9-d0be-45e1-e816-c9fcf4bdf3a6"
      },
      "outputs": [
        {
          "name": "stdout",
          "output_type": "stream",
          "text": [
            "----------------------------------------------------------------\n",
            "        Layer (type)               Output Shape         Param #\n",
            "================================================================\n",
            "            Conv2d-1           [-1, 32, 26, 26]             320\n",
            "         MaxPool2d-2           [-1, 32, 13, 13]               0\n",
            "            Conv2d-3           [-1, 64, 11, 11]          18,496\n",
            "         MaxPool2d-4             [-1, 64, 5, 5]               0\n",
            "           Flatten-5                 [-1, 1600]               0\n",
            "            Linear-6                   [-1, 64]         102,464\n",
            "            Linear-7                   [-1, 10]             650\n",
            "================================================================\n",
            "Total params: 121,930\n",
            "Trainable params: 121,930\n",
            "Non-trainable params: 0\n",
            "----------------------------------------------------------------\n",
            "Input size (MB): 0.00\n",
            "Forward/backward pass size (MB): 0.29\n",
            "Params size (MB): 0.47\n",
            "Estimated Total Size (MB): 0.76\n",
            "----------------------------------------------------------------\n"
          ]
        }
      ],
      "source": [
        "from torchsummary import summary\n",
        "\n",
        "device = torch.device('cuda' if torch.cuda.is_available() else 'cpu')\n",
        "model.to(device)\n",
        "\n",
        "summary(model, input_size=(1, 28, 28), device=str(device))"
      ]
    },
    {
      "cell_type": "code",
      "execution_count": null,
      "id": "14849528",
      "metadata": {
        "id": "14849528"
      },
      "outputs": [],
      "source": [
        "# saving model\n",
        "torch.save(model.state_dict(), \"/Users/diogogomes/Documents/Uni/Machine Learning/Assignments/4/pytorch_model.bin\")"
      ]
    },
    {
      "cell_type": "code",
      "execution_count": null,
      "id": "315b83bf",
      "metadata": {
        "id": "315b83bf",
        "outputId": "1cfc5922-3efd-47c1-9163-151bb078ed7b"
      },
      "outputs": [
        {
          "data": {
            "text/plain": [
              "CNN(\n",
              "  (conv1): Conv2d(1, 32, kernel_size=(3, 3), stride=(1, 1))\n",
              "  (pool1): MaxPool2d(kernel_size=2, stride=2, padding=0, dilation=1, ceil_mode=False)\n",
              "  (conv2): Conv2d(32, 64, kernel_size=(3, 3), stride=(1, 1))\n",
              "  (pool2): MaxPool2d(kernel_size=2, stride=2, padding=0, dilation=1, ceil_mode=False)\n",
              "  (flatten): Flatten(start_dim=1, end_dim=-1)\n",
              "  (fc1): Linear(in_features=1600, out_features=64, bias=True)\n",
              "  (fc2): Linear(in_features=64, out_features=10, bias=True)\n",
              ")"
            ]
          },
          "execution_count": 9,
          "metadata": {},
          "output_type": "execute_result"
        }
      ],
      "source": [
        "# load model\n",
        "\n",
        "model = CNN()\n",
        "model.load_state_dict(torch.load(\"pytorch_model.bin\", map_location='cpu', weights_only=True))\n",
        "model.eval()"
      ]
    }
  ],
  "metadata": {
    "kernelspec": {
      "display_name": "base",
      "language": "python",
      "name": "python3"
    },
    "language_info": {
      "codemirror_mode": {
        "name": "ipython",
        "version": 3
      },
      "file_extension": ".py",
      "mimetype": "text/x-python",
      "name": "python",
      "nbconvert_exporter": "python",
      "pygments_lexer": "ipython3",
      "version": "3.12.4"
    },
    "colab": {
      "provenance": [],
      "include_colab_link": true
    }
  },
  "nbformat": 4,
  "nbformat_minor": 5
}