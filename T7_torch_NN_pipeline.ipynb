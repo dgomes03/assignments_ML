{
 "cells": [
  {
   "cell_type": "markdown",
   "metadata": {
    "colab_type": "text",
    "id": "view-in-github"
   },
   "source": [
    "<a href=\"https://colab.research.google.com/github/isa-ulisboa/greends-pml/blob/main/notebooks/T7_torch_NN_pipeline.ipynb\" target=\"_parent\"><img src=\"https://colab.research.google.com/assets/colab-badge.svg\" alt=\"Open In Colab\"/></a>"
   ]
  },
  {
   "cell_type": "markdown",
   "metadata": {
    "id": "brWO6qD2tGcz"
   },
   "source": [
    "**Pipeline for deep learning with PyTorch**"
   ]
  },
  {
   "cell_type": "markdown",
   "metadata": {
    "id": "zWBPqUp3sp88"
   },
   "source": [
    "## Major steps from data to deployment"
   ]
  },
  {
   "cell_type": "markdown",
   "metadata": {
    "id": "qvy0Exkos1kJ"
   },
   "source": [
    "| Step                | Key Actions                                                                | Main PyTorch Classes/Methods                  |\n",
    "|---------------------|----------------------------------------------------------------------------|-----------------------------------------------|\n",
    "| Data Preparation    | Load, transform, batch, and split data                                     | `torch.utils.data.Dataset`, `DataLoader`, `torchvision.transforms`  |\n",
    "| Model Development   | Define architecture, choose loss/optimizer, set hyperparameters            | `torch.nn.Module`, `torch.nn.Parameter`, `torch.nn.functional`, `torch.optim` |\n",
    "| Model Training      | Forward pass, loss computation, backward pass, parameter update, epochs    | `forward()`, `loss.backward()`, `optimizer.step()`, `optimizer.zero_grad()` , `model.train()` |\n",
    "| Validation          | Evaluate on validation set, compute metrics, tune hyperparameters          | `model.eval()`, `torch.no_grad()`, metric functions (e.g., `torchmetrics`) |\n",
    "| Testing/Deployment  | Final evaluation on test set, save and deploy model                        | `torch.save()`, `torch.load()`, `model.eval()`, `torch.jit` |"
   ]
  },
  {
   "cell_type": "markdown",
   "metadata": {
    "id": "mwQHqRK_s5xK"
   },
   "source": [
    "## Typical training loop."
   ]
  },
  {
   "cell_type": "markdown",
   "metadata": {
    "id": "fIH-oFMrslAr"
   },
   "source": [
    "Recall that the whole set of examples is visited during one epoch. Moreover, the *dataloader* groups examples in batches, and defines some other functionalities like shuffling the examples each time the iterator is created with `for inputs, targets in dataloader` in the example below.\n",
    "\n",
    "For standard neural network training in PyTorch, inputs and targets should be tensors. This can be dealt with in the *data preparation* step, using `transforms` when creating the custom `Dataset` class for the problem at hand (see https://github.com/isa-ulisboa/greends-pml/blob/main/notebooks/T6_pytorch_dataset_dataloader.ipynb).\n",
    "\n",
    "As discussed in https://github.com/isa-ulisboa/greends-pml/blob/main/docs/T1_basic_concepts.md for a simple linear regression problem, PyTorch uses **backpropagation** as the strategy to updates the model weights for loss minimization. The exact same idea can be generalized to multilayer neural networks and deep-learning.\n",
    "\n",
    "The typical training loop in PyTorch is described in the code below.\n",
    "1. The forward pass is done with `model(inputs)` that applies the model to the input and computes the output. This is a probability distribution over the possible labels.\n",
    "2. The backward pass is done with `optimizer.step()` using the gradient computed with `loss.backward()`. The loss, as always, depends on the actual output `target` and the predicted output `outputs`. The line of code `optimizer.zero_grad()` prevents the gradients to be summed up along the process. For  backpropagation to work, the model must be in training mode, which it is set by default or by setting `model.train()`.\n",
    "\n",
    "  ```\n",
    "  for epoch in range(num_epochs):\n",
    "      for inputs, targets in dataloader:\n",
    "          optimizer.zero_grad()\n",
    "          outputs = model(inputs)\n",
    "          loss = criterion(outputs, targets)\n",
    "          loss.backward()\n",
    "          optimizer.step()\n",
    "  ```"
   ]
  },
  {
   "cell_type": "markdown",
   "metadata": {
    "id": "mS9LoMjytWKa"
   },
   "source": [
    "## Example for data preparation and model training: the MNIST data set"
   ]
  },
  {
   "cell_type": "markdown",
   "metadata": {
    "id": "FO176GNHrKrc"
   },
   "source": [
    "### Step 1: Data preparation"
   ]
  },
  {
   "cell_type": "code",
   "execution_count": 2,
   "metadata": {
    "colab": {
     "base_uri": "https://localhost:8080/"
    },
    "id": "i3Hwef1Jzdi7",
    "outputId": "19ccc05f-f35b-4799-a4ad-bc282330c00b"
   },
   "outputs": [],
   "source": [
    "#!pip install torchvision\n",
    "\n",
    "import torch\n",
    "import torch.nn as nn\n",
    "import torch.optim as optim\n",
    "from torchvision import datasets, transforms\n",
    "from torch.utils.data import DataLoader\n",
    "import matplotlib.pyplot as plt\n",
    "import time"
   ]
  },
  {
   "cell_type": "code",
   "execution_count": 4,
   "metadata": {
    "id": "Xd5AJl9TrYTB"
   },
   "outputs": [],
   "source": [
    "# Define a transformation to flatten the 8x8 images\n",
    "transform = transforms.Compose([\n",
    "    transforms.Resize((8, 8)),         # Resize the PIL Image to 8x8 first (MNIST images are originally 28x28)\n",
    "    transforms.ToTensor(),             # Then convert to tensor\n",
    "    transforms.Lambda(lambda x: x.view(-1))  # Finally, flatten the tensor\n",
    "])\n",
    "\n",
    "# Load the MNIST dataset\n",
    "train_dataset = datasets.MNIST(root='./data', train=True, download=True, transform=transform)\n",
    "test_dataset = datasets.MNIST(root='./data', train=False, download=True, transform=transform)\n",
    "\n",
    "# Create DataLoaders\n",
    "batch_size = 64 # images to be processed at the same time by the model; model only analyzes more images after these 64 are done.\n",
    "train_loader = DataLoader(train_dataset, batch_size=batch_size, shuffle=True)\n",
    "test_loader = DataLoader(test_dataset, batch_size=batch_size, shuffle=False)"
   ]
  },
  {
   "cell_type": "markdown",
   "metadata": {
    "id": "a3CSKLq7rfml"
   },
   "source": [
    "#### **Question**. Dataloaders `train_loader` and `test_loader` are iterators which allow to access examples and labels.\n",
    "- What is the type of objects yielded by the train and test dataloaders?\n",
    "- What is the *shape* of `images` returned by `for images, labels in train_loader`? How do you interpret that shape?\n",
    "- Why dataloaders for train and test differ with respect to the option `shuffle`?"
   ]
  },
  {
   "cell_type": "markdown",
   "metadata": {},
   "source": [
    "Answer:\n",
    "1. The type of objects yielded are called tensors. The first tensor contains a batch of images, while the second tensor contains the corresponding labels for those images.\n",
    "2. The shape refers to the dimensions of the tensor representing each image in the training dataset. Since we're using PyTorch DataLoader, the shape is: (batch_size, num_channels, height, width), where: batch_size is the number of images processed together in each iteration. num_channels is typically 3 for color images (RGB). height and width represent the dimensions of the image. In this case, the shape would be (64,1,8,8).\n",
    "3. In training, shuffle=True is used to randomize the order of the data at the start of each epoch. This helps the model generalize better and prevents it from learning the order of the data, which could lead to overfitting. For test, shuffle=False is used because we want to evaluate the model on the same order of data every time, ensuring reproducibility and consistent evaluation."
   ]
  },
  {
   "cell_type": "markdown",
   "metadata": {
    "id": "h_HCmOqQ3Jp0"
   },
   "source": [
    "#### Visualize some examples and labels"
   ]
  },
  {
   "cell_type": "markdown",
   "metadata": {
    "id": "GwidFLlG4Hdc"
   },
   "source": [
    "Since the `transform` that was applied above returns flattened tensors, one needs to unflatten them to be able to create an image that can be plotted."
   ]
  },
  {
   "cell_type": "code",
   "execution_count": 6,
   "metadata": {
    "colab": {
     "base_uri": "https://localhost:8080/",
     "height": 990
    },
    "id": "j4vJWgbk4rqa",
    "outputId": "52f337ad-c402-466c-fa2a-91efc91b6594"
   },
   "outputs": [
    {
     "data": {
      "image/png": "[encoded data removed]",
      "text/plain": [
       "<Figure size 900x1200 with 12 Axes>"
      ]
     },
     "metadata": {},
     "output_type": "display_data"
    }
   ],
   "source": [
    "# Assuming each image is a 1D tensor of length 64 (8*8)\n",
    "images, labels = zip(*[train_dataset[i] for i in range(12)])\n",
    "\n",
    "fig, axes = plt.subplots(3, 4, figsize=(9, 12))\n",
    "for i, ax in enumerate(axes.flat):\n",
    "    img = images[i].reshape(8, 8)  # Unflatten to 2D\n",
    "    ax.imshow(img, cmap='gray')\n",
    "    ax.set_title(str(labels[i]), fontsize=12)\n",
    "    ax.axis('off')\n",
    "\n",
    "plt.tight_layout()\n",
    "plt.show()"
   ]
  },
  {
   "cell_type": "markdown",
   "metadata": {
    "id": "_vO5PdL9w0EQ"
   },
   "source": [
    "### Step 2: model development"
   ]
  },
  {
   "cell_type": "code",
   "execution_count": 7,
   "metadata": {
    "id": "Onqhot-Fw-mX"
   },
   "outputs": [],
   "source": [
    "# Model Development: the model is a multilayer perceptron with one hidden layer\n",
    "class SimpleNN(nn.Module):\n",
    "    def __init__(self, input_size, hidden_size, num_classes):\n",
    "        super(SimpleNN, self).__init__()\n",
    "        self.fc1 = nn.Linear(input_size, hidden_size)\n",
    "        self.relu = nn.ReLU()\n",
    "        self.fc2 = nn.Linear(hidden_size, num_classes)\n",
    "\n",
    "    def forward(self, x):\n",
    "        out = self.fc1(x)\n",
    "        out = self.relu(out)\n",
    "        out = self.fc2(out)\n",
    "        return out\n",
    "\n",
    "# Since we are using 8x8 MNIST and flatenning the input, the input size is 8 * 8 = 64\n",
    "input_size = 8 * 8\n",
    "hidden_size = 128\n",
    "num_classes = 10 # 0-9 digits\n",
    "\n",
    "model = SimpleNN(input_size, hidden_size, num_classes)"
   ]
  },
  {
   "cell_type": "markdown",
   "metadata": {
    "id": "mnMeUXCF3dy3"
   },
   "source": [
    "#### **Question**:\n",
    "- The model architecture depends on the input data shape. The input images of MNIST are originally of size $28 \\times 28$ but they have been resized to $8 \\times 8$ pixels. Which changes do you need to do in the script to use size $16 \\times 16$? And if you just want to use the original $28 \\times 28$ size?\n",
    "- Which change you need to do in the `SimpleNN` class if you want your model to have two hidden layers?\n",
    "- What is a `ReLU` activation function?\n",
    "- Why are non linear activation functions like `ReLU` necessary for deep learning?"
   ]
  },
  {
   "cell_type": "markdown",
   "metadata": {},
   "source": [
    "Answer:\n",
    "1. We simply change transforms.Resize((8, 8)) to transforms.Resize((16, 16)), or, in the case of using the original resolution, we can either do transforms.Resize((28, 28)) or just remove this line of code and the default will be 28x28. We also need to change the input size from input_size = 8x8 to input_size = 16x16 or input_size = 28x28. And update the first layer of the model self.fc1 = nn.Linear(256, hidden_size) for 16x16 or self.fc1 = nn.Linear(784, hidden_size) for 28x28.\n",
    "\n",
    "2. To add another hidden layer we need to add another linear layer and activation fuction in between the existing layers.\n",
    "\n",
    "```\n",
    "class SimpleNN(nn.Module):\n",
    "    def __init__(self, input_size, hidden_size1, hidden_size2, num_classes):\n",
    "        super(SimpleNN, self).__init__()\n",
    "        self.fc1 = nn.Linear(input_size, hidden_size1)\n",
    "        self.relu1 = nn.ReLU()\n",
    "        self.fc2 = nn.Linear(hidden_size1, hidden_size2)\n",
    "        self.relu2 = nn.ReLU()\n",
    "        self.fc3 = nn.Linear(hidden_size2, num_classes)\n",
    "\n",
    "    def forward(self, x):\n",
    "        out = self.fc1(x)\n",
    "        out = self.relu1(out)\n",
    "        out = self.fc2(out)\n",
    "        out = self.relu2(out)\n",
    "        out = self.fc3(out)\n",
    "        return out\n",
    "```\n",
    "\n",
    "3. ReLU stands for Rectified Linear Unit. In other words, it outputs 0 for negative inputs and outputs the input itself for positive inputs.\n",
    "\n",
    "4. Without non-linear activations, a neural network would behave like a single linear transformation. Non-linear activations like ReLU allow networks to learn complex, non-linear relationships in the data, enabling them to solve much more complicated tasks."
   ]
  },
  {
   "cell_type": "code",
   "execution_count": 8,
   "metadata": {
    "id": "Vtw8lcI6jAVE"
   },
   "outputs": [],
   "source": [
    "# Loss and optimizer: necessary for training\n",
    "criterion = nn.CrossEntropyLoss()\n",
    "optimizer = optim.Adam(model.parameters(), lr=0.001)"
   ]
  },
  {
   "cell_type": "markdown",
   "metadata": {
    "id": "gulOWspDnA5s"
   },
   "source": [
    "#### Some details about cross entropy, softmax, one hot encoding and distributions"
   ]
  },
  {
   "cell_type": "markdown",
   "metadata": {
    "id": "09jFxhNRjKpN"
   },
   "source": [
    "Since the problem is a *classification problem*, the criterion to compare model predictions with actual labels (what was denoted be $y$ and $\\hat{y}$ for regression) is typically `criterion = nn.CrossEntropyLoss()`. This function has two arguments:\n",
    "1. the output of the model (a list of scores returned by the model for each possible class, where the largest score corresponds to the most likely class) and\n",
    "2. the target, which is the actual label of example. For instance if there are 10 classes $0, 1, \\dots, 9$, the output would be a list like $[0.3,1.2,2.5,0.2,...]$ with 10 values, and the target could be 2 for instance.\n",
    "\n",
    "The `nn.CrossEntropyLoss()` function will internally process the scores an the target the following way.\n",
    "\n",
    "1. **Scores**. The unormalized model outputs $f_1, \\dots, f_k$ are called *scores*, *logits* or *raw* outputs. Each score $z_i=f_i({\\rm \\bf x};{\\rm \\bf w_i})$ is converted into a [0,1] value by the *softmax* function:\n",
    "$$p_i=\\frac{\\exp(z_i)}{\\sum_{j=1}^k \\exp(z_j)} ~~ {\\rm which~implies~that} ~~ 0<p_i \\le 1.$$\n",
    "After that transformation, the classification model's probabilistic output is a vector of values $(p_1,\\dots,p_k)$, with $p_i \\ge 0$ and $\\sum p_i=1$ as required for  probability distributions. The predicted label is the one with highest $p$.\n",
    "\n",
    "<img src=\"https://drive.google.com/uc?export=view&id=1iD519g8QbBmOGp9SiOQsIneJnWg53SMQ\" width=\"600\" >\n",
    "\n",
    "\n",
    "2. **Target**. A target value of, say, 2 is one-hot-encoded into the list $[0,0,1,0,...,0]$ of length 10.\n",
    "\n",
    "The **cross-entropy loss** measures the dissimilarity between the probability distribution returned by *softmax* $(p_1,p_2,\\dots)$ and the one hor encoded target distribution $(t_1,t_2,\\dots)$ for each example. Its value range from 0 (optimal value associated to minimum uncertainty) and 1 (maximum value associated to maximum uncertainty, i.e. all probabilities are equal):\n",
    "\n",
    "$$L_{single~example}=-\\left( t_1 \\, \\log(p_1) + t_2 \\, \\log(p_2) + \\dots \\right) \\in [0,1].$$\n",
    "\n",
    "In the expression above, we suppose that the probabilities $p_i$ are non zero which is guaranteed by th e*softmax* function.\n",
    "\n",
    "For a batch of $n$ examples, the cross-entropy loss is given by the average of the $n$ individual loss values, where $L_i$ is the cross entropy for the $i$th example:\n",
    "\n",
    "$$L_{batch}=\\frac{1}{n} \\left( L_1+L_2+ \\dots,L_n\\right).$$\n"
   ]
  },
  {
   "cell_type": "markdown",
   "metadata": {
    "id": "-l47-KLnxD-f"
   },
   "source": [
    "### Step 3: Model training"
   ]
  },
  {
   "cell_type": "code",
   "execution_count": 9,
   "metadata": {
    "id": "CHPLcpqU04Pb"
   },
   "outputs": [],
   "source": [
    "# number of epochs\n",
    "num_epochs = 3"
   ]
  },
  {
   "cell_type": "markdown",
   "metadata": {
    "id": "E_-stmiP3Ddf"
   },
   "source": [
    "#### Typical training loop"
   ]
  },
  {
   "cell_type": "code",
   "execution_count": 10,
   "metadata": {
    "colab": {
     "base_uri": "https://localhost:8080/",
     "height": 401
    },
    "id": "d9w34AQPxDH3",
    "outputId": "7f964aa9-01f7-4a3f-f18c-a31b372eefdd"
   },
   "outputs": [
    {
     "name": "stdout",
     "output_type": "stream",
     "text": [
      "epoch: 1; time: 1747910547\n",
      "epoch: 2; time: 1747910550\n",
      "epoch: 3; time: 1747910552\n"
     ]
    }
   ],
   "source": [
    "for epoch in range(num_epochs):\n",
    "    print(f'epoch: {epoch+1}; time: {round(time.time())}')\n",
    "    model.train()\n",
    "    for images, labels in train_loader:\n",
    "        outputs = model(images)\n",
    "        loss = criterion(outputs, labels)\n",
    "        optimizer.zero_grad()\n",
    "        loss.backward()\n",
    "        optimizer.step()\n"
   ]
  },
  {
   "cell_type": "markdown",
   "metadata": {
    "id": "Vw-dljML3MN_"
   },
   "source": [
    "#### Change device: run training on GPU"
   ]
  },
  {
   "cell_type": "markdown",
   "metadata": {
    "id": "Rs9EvGm41Nt7"
   },
   "source": [
    "Training involves many large matrix computations. In general, this is done faster if it is parellelized over multiple cores. One can determine which device, either `cuda` (for GPU) or `cpu`, is used for training. Both model and data must be moved to the right device."
   ]
  },
  {
   "cell_type": "code",
   "execution_count": 11,
   "metadata": {
    "colab": {
     "base_uri": "https://localhost:8080/"
    },
    "id": "ZxUKDQKbyomh",
    "outputId": "0b26fc83-0a0c-4996-f13e-a35b544a4e91"
   },
   "outputs": [
    {
     "name": "stdout",
     "output_type": "stream",
     "text": [
      "Using device: cpu\n",
      "epoch: 1; time: 1747910555\n",
      "epoch: 2; time: 1747910557\n",
      "epoch: 3; time: 1747910560\n"
     ]
    }
   ],
   "source": [
    "device = torch.device(\"cuda\" if torch.cuda.is_available() else \"cpu\")\n",
    "print(f\"Using device: {device}\")\n",
    "\n",
    "model.to(device) #<<<<<<<<<< move model to device\n",
    "\n",
    "#move data to GPU\n",
    "for epoch in range(num_epochs):\n",
    "    print(f'epoch: {epoch+1}; time: {round(time.time())}')\n",
    "    model.train()\n",
    "    for images, labels in train_loader:\n",
    "        images = images.to(device)  #<<<<<<<<<< move data to device\n",
    "        labels = labels.to(device)  #<<<<<<<<<< move data to device\n",
    "        outputs = model(images)\n",
    "        loss = criterion(outputs, labels)\n",
    "        optimizer.zero_grad()\n",
    "        loss.backward()\n",
    "        optimizer.step()"
   ]
  },
  {
   "cell_type": "markdown",
   "metadata": {
    "id": "jBA0U1D82FfN"
   },
   "source": [
    "#### **Question**. Which of the following parameters that were defined earlier about the data, model or training you expect will drive computation time down when using GPU? Why?\n",
    "- image size;\n",
    "- number of nodes in the hidden layer;\n",
    "- loss function;\n",
    "- optimizer;\n",
    "\n",
    "\n"
   ]
  },
  {
   "cell_type": "markdown",
   "metadata": {},
   "source": [
    "Answer: \n",
    "image size and the number of nodes in the hidden layer.\n",
    "\n",
    "The reason why is because of the architcture of a GPU compared to a CPU. A GPU is comprised of many small cores that were originaly made to process multiple graphics in paralell very quickly, while the CPU has less but more powerfull cores made for sequential tasks.\n",
    "Over the years, people started utilizing the GPU architcture for different porpuses, one of those being these matrix and tensor operations used in neural networks. When image size or the number of nodes in the hidden layer increases, the computational load also increases, GPUs can handle this more efficiently than CPUs because they can process many pixels/features in parallel."
   ]
  },
  {
   "cell_type": "markdown",
   "metadata": {
    "id": "V8DZljJx5Csm"
   },
   "source": [
    "### Step 4: Validation"
   ]
  },
  {
   "cell_type": "markdown",
   "metadata": {
    "id": "mHGiUPJt5Gq-"
   },
   "source": [
    "Validation is important for several goals, including:\n",
    "- to estimate the accuracy of the model for the task at hand;\n",
    "- to determine the optimal number of iterations (epochs);\n",
    "- to be able to tune the model choosing the best hyperparameters.\n",
    "\n",
    "Below, we will concentrate on the first two of those issues, and we will compare the estimated overall accuracy over the train and the test sets. In order to do this need to keep track of the intermediate results for each epoch and each batch of examples."
   ]
  },
  {
   "cell_type": "code",
   "execution_count": 12,
   "metadata": {
    "id": "0m9K5d8a6e0d"
   },
   "outputs": [
    {
     "name": "stdout",
     "output_type": "stream",
     "text": [
      "epoch: 1; time: 1747910563\n",
      "epoch: 1; time: 1747910565\n",
      "epoch: 2; time: 1747910565\n",
      "epoch: 2; time: 1747910568\n",
      "epoch: 3; time: 1747910568\n",
      "epoch: 3; time: 1747910571\n",
      "epoch: 4; time: 1747910571\n",
      "epoch: 4; time: 1747910574\n",
      "epoch: 5; time: 1747910574\n",
      "epoch: 5; time: 1747910577\n"
     ]
    }
   ],
   "source": [
    "# Model Training\n",
    "num_epochs = 5\n",
    "\n",
    "# Computes the accuracy for a batch: outputs are probability-like values\n",
    "def compute_accuracy(outputs, labels):\n",
    "    _, predicted = torch.max(outputs.data, 1)\n",
    "    correct = (predicted == labels).sum().item()\n",
    "    total = len(labels)\n",
    "    return correct / total\n",
    "\n",
    "# History object to keep track of accuracy along epochs\n",
    "history = {'epoch': [], 'train_accuracy': [], 'val_accuracy': []}\n",
    "\n",
    "for epoch in range(num_epochs):\n",
    "    print(f'epoch: {epoch+1}; time: {round(time.time())}')\n",
    "    model.train()\n",
    "    batch_accuracies=[]\n",
    "    for images, labels in train_loader:\n",
    "        images = images.to(device)  #<<<<<<<<<< move data to device\n",
    "        labels = labels.to(device)  #<<<<<<<<<< move data to device\n",
    "        outputs = model(images)\n",
    "        loss = criterion(outputs, labels)\n",
    "        optimizer.zero_grad()\n",
    "        loss.backward()\n",
    "        optimizer.step()\n",
    "        # compute accuracy over the batch\n",
    "        batch_accuracies.append(compute_accuracy(outputs, labels))\n",
    "    history['epoch'].append(epoch)\n",
    "    history['train_accuracy'].append(sum(batch_accuracies) / len(batch_accuracies))\n",
    "\n",
    "    # Validation phase\n",
    "    print(f'epoch: {epoch+1}; time: {round(time.time())}')\n",
    "    model.eval()\n",
    "    batch_accuracies=[]\n",
    "    with torch.no_grad():\n",
    "        for images, labels in test_loader:\n",
    "            images = images.to(device)  #<<<<<<<<<< move data to device\n",
    "            labels = labels.to(device)  #<<<<<<<<<< move data to device\n",
    "            outputs = model(images)\n",
    "            # compute accuracy over the batch\n",
    "            batch_accuracies.append(compute_accuracy(outputs, labels))\n",
    "        history['val_accuracy'].append(sum(batch_accuracies) / len(batch_accuracies))"
   ]
  },
  {
   "cell_type": "code",
   "execution_count": 13,
   "metadata": {
    "colab": {
     "base_uri": "https://localhost:8080/",
     "height": 472
    },
    "id": "pNC9L7p976Xt",
    "outputId": "77525571-966b-4b51-feef-a0e160be079e"
   },
   "outputs": [
    {
     "data": {
      "image/png": "[encoded data removed]",
      "text/plain": [
       "<Figure size 640x480 with 1 Axes>"
      ]
     },
     "metadata": {},
     "output_type": "display_data"
    }
   ],
   "source": [
    "# accuracy plot\n",
    "plt.plot(history['epoch'], history['train_accuracy'], label='Train Accuracy')\n",
    "plt.plot(history['epoch'], history['val_accuracy'], label='Validation Accuracy')\n",
    "plt.xlabel('Epoch')\n",
    "plt.ylabel('Accuracy (%)')\n",
    "plt.title('Train and Validation Accuracy over Epochs')\n",
    "plt.legend()\n",
    "plt.grid(True)\n",
    "plt.show()"
   ]
  },
  {
   "cell_type": "markdown",
   "metadata": {
    "id": "QL_XQFSSxdja"
   },
   "source": [
    "#### **Question**:\n",
    "- From the visualization of that plot, do you think that 5 epochs are enough, or should the model train longer than that?\n",
    "- Can you find a reason for the validation curve to be consistently higher than the training curve, which in principle should not happen\n",
    "\n"
   ]
  },
  {
   "cell_type": "markdown",
   "metadata": {},
   "source": [
    "Answer:\n",
    "\n",
    "5 epochs dont seem to be enough since we can see that the slope of both curves is still positive. We should stop when the curves stabilize and/or start decreasing in accuracy. \n",
    "\n",
    "The validation curve is higher because of the algorithm how training accuracy is being measured during training. In the training loop, we're computing training accuracy while the model is in training mode (model.train()), which includes Dropout, BatchNorm, and possibly other randomness, making predictions less stable. But then on validation we use model.eval, which eliminates the randomness and uses the learned running statistics instead, so the validation predictions are more stable and accurate."
   ]
  }
 ],
 "metadata": {
  "accelerator": "GPU",
  "colab": {
   "authorship_tag": "ABX9TyMTj19BTeezL2spSa79lOv9",
   "gpuType": "A100",
   "include_colab_link": true,
   "machine_shape": "hm",
   "provenance": [],
   "toc_visible": true
  },
  "kernelspec": {
   "display_name": "base",
   "language": "python",
   "name": "python3"
  },
  "language_info": {
   "codemirror_mode": {
    "name": "ipython",
    "version": 3
   },
   "file_extension": ".py",
   "mimetype": "text/x-python",
   "name": "python",
   "nbconvert_exporter": "python",
   "pygments_lexer": "ipython3",
   "version": "3.12.4"
  }
 },
 "nbformat": 4,
 "nbformat_minor": 4
}
